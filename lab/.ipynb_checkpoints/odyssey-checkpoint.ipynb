{
 "cells": [
  {
   "cell_type": "code",
   "execution_count": 4,
   "metadata": {
    "collapsed": true
   },
   "outputs": [],
   "source": [
    "import  requests, os, sys, json, urllib, shutil, re, pickle\n",
    "from selenium import webdriver\n",
    "from selenium.webdriver.common.by import By\n",
    "from selenium.webdriver.support.ui import WebDriverWait\n",
    "from selenium.webdriver.support import expected_conditions as EC\n",
    "from selenium.webdriver.common.keys import Keys\n",
    "from textwrap import fill\n",
    "from collections import Counter\n",
    "from bs4 import BeautifulSoup\n",
    "\n",
    "dir = '/Users/chaser/Projects/Dictionary/Meaning'\n",
    "userWord = ''\n",
    "\n",
    "class color:\n",
    "    MAGENTA     = '\\033[35m'\n",
    "    CYAN        = '\\033[36m'\n",
    "    BLUE        = '\\033[34m'\n",
    "    BRIGHT      = '\\033[37m'\n",
    "    DARKYELLOW  = '\\033[33m'\n",
    "    GREEN       = '\\033[32m'\n",
    "    DARKRED     = '\\033[31m'\n",
    "    DULL        = '\\033[30m'\n",
    "    PURPLE      = '\\033[95m'\n",
    "    DARKCYAN    = '\\033[36m'\n",
    "    RED         = '\\033[91m'\n",
    "    BOLD        = '\\033[1m'\n",
    "    ITALICS     = '\\033[3m'\n",
    "    UNDERLINE   = '\\033[4m'\n",
    "    END         = '\\033[0m'\n",
    "    def getMagenta(string):\n",
    "        return color.MAGENTA + string + color.END\n",
    "        \n",
    "    def getCyan(string):\n",
    "        return color.CYAN + string + color.END\n",
    "        \n",
    "    def getBlue(string):\n",
    "        return color.BLUE + string + color.END\n",
    "        \n",
    "    def getBright(string):\n",
    "        return color.BRIGHT + string + color.END\n",
    "        \n",
    "    def getDarkYellow(string):\n",
    "        return color.DARKYELLOW + string + color.END\n",
    "        \n",
    "    def getGreen(string):\n",
    "        return color.GREEN + string + color.END\n",
    "        \n",
    "    def getRed(string):\n",
    "        return color.RED + string + color.END\n",
    "        \n",
    "    def getItalics(string):\n",
    "        return color.ITALICS + string + color.END\n",
    "        \n",
    "    def getUnderline(string):\n",
    "        return color.UNDERLINE + string + color.END\n",
    "        \n",
    "    def getBold(string):\n",
    "        return color.BOLD + string + color.END\n",
    "        \n",
    "    def getDarkRed(string):\n",
    "        return color.DARKRED + string + color.END\n",
    "        \n",
    "    def getDull(string):\n",
    "        return color.Dull + string + color.END\n",
    "        \n",
    "    def getPurple(string):\n",
    "        return color.PURPLE + string + color.END\n",
    "        \n",
    "    def getDarkCyan(string):\n",
    "        return color.DARKCYAN + string + color.END"
   ]
  },
  {
   "cell_type": "code",
   "execution_count": 17,
   "metadata": {
    "collapsed": true
   },
   "outputs": [],
   "source": [
    "\"\"\"Logs what is outputed at the terminal to a file\"\"\"\n",
    "class Logger(object):\n",
    "    def __init__(self, filename=\"Default.log\"):\n",
    "        self.terminal = sys.stdout          # here it defines vaiable terminal initialised to the standard stdout\n",
    "        self.log = open(filename, \"a\")      # here it defines a vauable initialised to a file\n",
    "\n",
    "    def write(self, message):               # the write function writes to terminal and file and also flushes \n",
    "        self.terminal.write(message)        # so that updates to file are simultaneous to the updates in terminal\n",
    "        self.log.write(message)\n",
    "        self.log.flush()\n",
    "\n",
    "    def flush(self):\n",
    "        #this flush method is needed for python 3 compatibility.\n",
    "        #this handles the flush command by doing nothing.\n",
    "        #you might want to specify some extra behavior here.\n",
    "        pass"
   ]
  },
  {
   "cell_type": "code",
   "execution_count": 5,
   "metadata": {},
   "outputs": [],
   "source": [
    "class NoDefinition(ValueError):\n",
    "    def __init__(self, arg1, arg2):\n",
    "        self.msg = arg1\n",
    "        self.word = arg2\n",
    "        self.args = {arg1, arg2}"
   ]
  },
  {
   "cell_type": "code",
   "execution_count": 6,
   "metadata": {
    "collapsed": true
   },
   "outputs": [],
   "source": [
    "def printAligned(left, right):\n",
    "    screen_width = shutil.get_terminal_size().columns - 20\n",
    "    wrapped = fill(right, width=screen_width, subsequent_indent=' '*15)\n",
    "    return '  {0:>13}{1}'.format(left, wrapped)\n",
    "\n",
    "def printSynAntons(left, right):\n",
    "    screen_width = shutil.get_terminal_size().columns - 25\n",
    "    wrapped = fill(right, width=screen_width, subsequent_indent=' '*21)\n",
    "    return '  {0:>13}{1}'.format(left, wrapped)\n",
    "\n",
    "def anagram(word1, word2):\n",
    "    # print(\">>>>\", word1)\n",
    "    word1 = word1.replace(\" \", \"\")\n",
    "    word1 = word1.replace(\"-\", \"\")\n",
    "    word2 = word2.replace(\" \", \"\")\n",
    "    word2 = word2.replace(\"-\", \"\")\n",
    "    return Counter(word1) == Counter(word2)"
   ]
  },
  {
   "cell_type": "code",
   "execution_count": 7,
   "metadata": {
    "collapsed": true
   },
   "outputs": [],
   "source": [
    "def handleVocabDidYouMean(soup, word):\n",
    "    msg = soup.find(\"span\", {\"class\":\"word\"})\n",
    "    if msg.text.lower() != word:\n",
    "        url = 'https://www.vocabulary.com/dictionary/' + msg.text.lower()\n",
    "        response = requests.get(url, headers={\"user-agent\": \"Mozilla/5.0 (Macintosh; Intel Mac OS X 10.12; rv:49.0) Gecko/20100101 Firefox/49.0\"})\n",
    "        html = response.content\n",
    "        soup = BeautifulSoup(html, \"lxml\")\n",
    "        word  = msg.text.lower()\n",
    "    return [soup, word]"
   ]
  },
  {
   "cell_type": "code",
   "execution_count": 8,
   "metadata": {
    "collapsed": true
   },
   "outputs": [],
   "source": [
    "\"\"\"REsults form Vocabulary.com\"\"\"\n",
    "def vocabResults(word):\n",
    "    url = 'https://www.vocabulary.com/dictionary/' + word\n",
    "    response = requests.get(url, headers={\"user-agent\": \"Mozilla/5.0 (Macintosh; Intel Mac OS X 10.12; rv:49.0) Gecko/20100101 Firefox/49.0\"})\n",
    "    html = response.content\n",
    "    vocab_soup = BeautifulSoup(html, \"lxml\")\n",
    "    [vocab_soup, suggestedWord] = handleVocabDidYouMean(vocab_soup, word)\n",
    "    columns = shutil.get_terminal_size().columns\n",
    "    print(color.getMagenta(word.upper().center(columns)))\n",
    "    short = vocab_soup.find(\"p\", {\"class\":\"short\"})\n",
    "    if short != None:\n",
    "        print(color.getRed(printAligned(\"SHORT  \", short.text)))\n",
    "    lonng = vocab_soup.find(\"p\", {\"class\":\"long\"})\n",
    "    if lonng != None:\n",
    "        print(color.getDarkCyan(printAligned(\"LONG  \", lonng.text)))\n",
    "\n",
    "    json_url = 'https://corpus.vocabulary.com/api/1.0/examples.json?query=' + str(word) + '&maxResults=24&startOffset=0&filter=0'\n",
    "    json_url = json_url.replace(' ', '%20')\n",
    "    html = urllib.request.urlopen(json_url).read()\n",
    "    j = json.loads(html.decode('utf-8'))\n",
    "    if j['result'] != None:\n",
    "        l = j['result']['sentences']\n",
    "        print(\"Examples from Vocabulary:\".upper().center(columns))\n",
    "        for s in l[:5]:\n",
    "            print(color.getItalics(printAligned(\"  > \", s['sentence'])))\n",
    "    return word"
   ]
  },
  {
   "cell_type": "code",
   "execution_count": 46,
   "metadata": {
    "collapsed": true
   },
   "outputs": [],
   "source": [
    "def raiseDefinitionException(soup, word):\n",
    "    msg = soup.find(\"span\",{\"class\":\"_Tgc\"})\n",
    "    print(\"found 2: \", msg)\n",
    "    print(sys._getframe(1).f_code.co_name) # print the name of the function which called it.\n",
    "    if msg != None:\n",
    "        err = msg.get_text(' ')\n",
    "        print(\"msg: \", msg)\n",
    "        print(\"err: \", err)\n",
    "        raise NoDefinition(err, word)"
   ]
  },
  {
   "cell_type": "code",
   "execution_count": 10,
   "metadata": {
    "collapsed": true
   },
   "outputs": [],
   "source": [
    "def getHindi(driver):\n",
    "    RESULTS_LOCATOR = \"//span[@class='lr_dct_trns_sel_cnt']\"\n",
    "    WebDriverWait(driver, 10).until(EC.visibility_of_element_located((By.XPATH, RESULTS_LOCATOR)))\n",
    "    options = driver.find_element(By.XPATH, RESULTS_LOCATOR)\n",
    "    opt = options.find_element(By.XPATH, '//Select')\n",
    "    for o in opt.find_elements_by_tag_name('option'):\n",
    "        if o.text == 'Hindi':\n",
    "            o.click() # select() in earlier versions of webdriver\n",
    "            break\n",
    "    time.sleep(1)\n",
    "    html = driver.page_source\n",
    "    soup = BeautifulSoup(html, \"lxml\")\n",
    "    trans = soup.find(\"div\", {\"class\":\"lr_dct_trns vmod\"})\n",
    "    return trans"
   ]
  },
  {
   "cell_type": "code",
   "execution_count": 11,
   "metadata": {
    "collapsed": true
   },
   "outputs": [],
   "source": [
    "def getSoupRenewed(oldSoup, driver, forWord):\n",
    "    url = 'https://www.google.co.in/search?q=define%20' + forWord + '&expnd=1'\n",
    "    driver.get(url)\n",
    "    html = driver.page_source\n",
    "    soup = BeautifulSoup(html, \"lxml\")\n",
    "    return soup"
   ]
  },
  {
   "cell_type": "code",
   "execution_count": 12,
   "metadata": {
    "collapsed": true
   },
   "outputs": [],
   "source": [
    "def handleGoogleDidYouMean(soup, word, driver):\n",
    "    errorString = 'Did you mean:'\n",
    "    msg = soup.find(\"span\",{\"class\":\"spell _uwb\"})\n",
    "    if msg != None:\n",
    "        msg = msg.text\n",
    "        if msg == errorString:\n",
    "            word = soup.find(\"a\",{\"class\":\"spell\"}).find({\"i\"}).text\n",
    "            soup = getSoupRenewed(soup, driver, word)\n",
    "    else:\n",
    "        msg = soup.find(\"span\",{\"class\":\"spell\"})\n",
    "        errorString = \"Including results for\"\n",
    "        if msg != None and errorString in msg.text:\n",
    "            word = msg.find({\"i\"}).text\n",
    "            soup = getSoupRenewed(soup, driver, word)\n",
    "        elif msg != None and \"Showing results for\" in msg.text:\n",
    "            word = soup.find(\"a\",{\"class\":\"spell\"}).find({\"i\"}).text\n",
    "            word = soup.find(\"span\", {\"data-dobid\":\"hdw\"}).text # Earlier I was using the word in the error message but if we search for \"privy counsil\" then only the spelling of cousil is wrong therefore in the above statement only \"council\" will appear rather than \"privy council\".\n",
    "        else:\n",
    "            raiseDefinitionException(soup, word)\n",
    "    return [soup, word]"
   ]
  },
  {
   "cell_type": "code",
   "execution_count": 38,
   "metadata": {},
   "outputs": [],
   "source": [
    "\"\"\"Request google for the word and returns the element containing the entire definition\"\"\"\n",
    "def getGoogleResponse(word, driver):\n",
    "    url = 'https://www.google.co.in/search?q=define%20' + word + '&expnd=1'\n",
    "    driver.get(url)\n",
    "    html = driver.page_source\n",
    "    final_soup = BeautifulSoup(html, \"lxml\")\n",
    "    [final_soup, word] = handleGoogleDidYouMean(final_soup, word, driver)\n",
    "    everyThing = final_soup.select(\"div.l_dct_ent\")\n",
    "    # print(everyThing)\n",
    "    if everyThing == []:\n",
    "        raiseDefinitionException(final_soup, word) # we need to pass word to this also because sometimes the word will be changed.\n",
    "        print(\"found 1\")\n",
    "###     print(\"found 1^\")\n",
    "    else:\n",
    "        trans = getHindi(driver)\n",
    "        return [everyThing, word, trans]\n",
    "    return [everyThing, word, final_soup.find(\"span\", {\"class\":\"Y0NH2b CLPzrc\"})]"
   ]
  },
  {
   "cell_type": "code",
   "execution_count": 14,
   "metadata": {
    "collapsed": true
   },
   "outputs": [],
   "source": [
    "def alignBullets(left, right):\n",
    "    screen_width = shutil.get_terminal_size().columns - 15\n",
    "    wrapped = fill(right, width=screen_width, subsequent_indent=' '*12)\n",
    "    return '  {0:<10}{1}'.format(left, wrapped)\n",
    "\n",
    "def wrapLineNumberDfn(right):\n",
    "    screen_width = shutil.get_terminal_size().columns - 15\n",
    "    wrapped = fill(right, width=screen_width, subsequent_indent=' '*11)\n",
    "    return wrapped"
   ]
  },
  {
   "cell_type": "code",
   "execution_count": 15,
   "metadata": {
    "collapsed": true
   },
   "outputs": [],
   "source": [
    "def extractOrigin(everyThing):\n",
    "    origin = everyThing[0].find_all(\"div\", {})\n",
    "    print()\n",
    "    print(printAligned(\"Origin:  \", origin[-1].text))\n",
    "\n",
    "def changeFileNameIfSearchNotSame(givenFileName, givenWord, searchedWord):\n",
    "    os.chdir(dir + '/' + givenWord[0].upper())\n",
    "    givenFileName = givenFileName.replace(\" \", \"\\\\ \")\n",
    "    fileName = dir + '/' + searchedWord[0].upper() + '/' + searchedWord.lower() + \".txt\"\n",
    "    os.system(\"mv \" + givenFileName + \" \" + fileName.replace(\" \", \"\\\\ \"))\n",
    "    print(\"Attention!!! The word searched is \" + searchedWord + \" instead of \" + givenWord)"
   ]
  },
  {
   "cell_type": "code",
   "execution_count": 16,
   "metadata": {
    "collapsed": true
   },
   "outputs": [],
   "source": [
    "def findWordIfAlreadyScrapped(word, fileName, wordToSave):\n",
    "    wordGiven = word\n",
    "    os.chdir(dir + '/' + word[0].upper())\n",
    "    files = os.listdir()\n",
    "    if fileName in files:\n",
    "        file = fileName.replace(\" \", \"\\\\ \")\n",
    "        print(\"Found!!\")\n",
    "        os.system(\"cat \" + file)\n",
    "        addword.addWordFromMean(wordToSave)\n",
    "        os.chdir(dir + '/' + word[0].upper())\n",
    "    else:\n",
    "        try:\n",
    "            chromedriver = \"/Users/chaser/Projects/mybin/chromedriver\"\n",
    "            os.environ[\"webdriver.chrome.driver\"] = chromedriver\n",
    "            driver = webdriver.Chrome(chromedriver)\n",
    "            sys.stdout = Logger(fileName)\n",
    "            [definitionElement, word, trans] = getGoogleResponse(word, driver) # word will contain the word returned from search.\n",
    "            \n",
    "            vocabResults(word)\n",
    "            # print(definitionElement)\n",
    "            # print(\"there\")\n",
    "            extractFromGoogleElement(definitionElement)\n",
    "            extractHindi(trans)\n",
    "            extractOrigin(definitionElement)\n",
    "            # print(\"here\")\n",
    "            # exit(5)\n",
    "            driver.quit()\n",
    "            # os.system('mv ../../' + fileName + ' .') now no need to move ;)\n",
    "            sys.stdout = sys.__stdout__\n",
    "            if wordGiven != word:  # If the word is changed by google then the changed word should be saved instead of the wrong user supplied word.\n",
    "                wordToSave = word.replace(\" \", \"-\")\n",
    "            addword.addWordFromMean(wordToSave)       #!!!!!!!!!!!   also in the if statement >>>>>>>>> HEY DON\"T FORGET TO UNCOMMENT THIS TO ADD THE QUERIED WORD TO wordlists\n",
    "            os.chdir(dir + '/' + word[0].upper())\n",
    "            if wordGiven != word:\n",
    "                changeFileNameIfSearchNotSame(fileName, wordGiven, word)\n",
    "            # print(\">>!!!!>>\")\n",
    "        except NoDefinition as e:\n",
    "            try:\n",
    "                # print(\"Its in wiki\")\n",
    "                vocabResults(e.word)\n",
    "                print(\"\\n\\tWiki Definition:\")\n",
    "                print(printAligned(\"\\t\", e.msg))\n",
    "                driver.quit()\n",
    "                sys.stdout = sys.__stdout__\n",
    "                if wordGiven != e.word:  # If the word is changed by google then the changed word should be saved instead of the wrong user supplied word.\n",
    "                    wordToSave = e.word.replace(\" \", \"-\")\n",
    "                addword.addWordFromMean(wordToSave)       #!!!!!!!!!!!   also in the if statement >>>>>>>>>HEY DON\"T FORGET TO UNCOMMENT THIS TO ADD THE QUERIED WORD TO wordlists\n",
    "                os.chdir(dir + '/' + e.word[0].upper())\n",
    "                if wordGiven != e.word:\n",
    "                    changeFileNameIfSearchNotSame(fileName, wordGiven, e.word)\n",
    "            except:\n",
    "                # print(\"Its in wiki\")\n",
    "                sys.stdout =sys.__stdout__\n",
    "                os.system('rm ' + fileName.replace(\" \", \"\\\\ \"))\n",
    "                driver.quit()\n",
    "        except:\n",
    "            # for words like Odyssey the exception is returning here.\n",
    "            # print(\"never went to wiki\")\n",
    "            # try:\n",
    "            # except:\n",
    "            sys.stdout =sys.__stdout__\n",
    "            os.system('rm ' + fileName.replace(\" \", \"\\\\ \"))\n",
    "            driver.quit()"
   ]
  },
  {
   "cell_type": "code",
   "execution_count": 18,
   "metadata": {
    "collapsed": true
   },
   "outputs": [],
   "source": [
    "chromedriver = \"/Users/chaser/Projects/mybin/chromedriver\"\n",
    "os.environ[\"webdriver.chrome.driver\"] = chromedriver\n",
    "driver = webdriver.Chrome(chromedriver)"
   ]
  },
  {
   "cell_type": "code",
   "execution_count": 20,
   "metadata": {},
   "outputs": [
    {
     "name": "stdout",
     "output_type": "stream",
     "text": [
      "found 2\n",
      "found 2\n",
      "found 1\n"
     ]
    },
    {
     "ename": "TimeoutException",
     "evalue": "Message: \n",
     "output_type": "error",
     "traceback": [
      "\u001b[0;31m---------------------------------------------------------------------------\u001b[0m",
      "\u001b[0;31mTimeoutException\u001b[0m                          Traceback (most recent call last)",
      "\u001b[0;32m<ipython-input-20-41f94c1c734c>\u001b[0m in \u001b[0;36m<module>\u001b[0;34m()\u001b[0m\n\u001b[0;32m----> 1\u001b[0;31m \u001b[0;34m[\u001b[0m\u001b[0mdefinitionElement\u001b[0m\u001b[0;34m,\u001b[0m \u001b[0mword\u001b[0m\u001b[0;34m,\u001b[0m \u001b[0mtrans\u001b[0m\u001b[0;34m]\u001b[0m \u001b[0;34m=\u001b[0m \u001b[0mgetGoogleResponse\u001b[0m\u001b[0;34m(\u001b[0m\u001b[0;34m\"odyssey\"\u001b[0m\u001b[0;34m,\u001b[0m \u001b[0mdriver\u001b[0m\u001b[0;34m)\u001b[0m\u001b[0;34m\u001b[0m\u001b[0m\n\u001b[0m",
      "\u001b[0;32m<ipython-input-13-c7619eecdad0>\u001b[0m in \u001b[0;36mgetGoogleResponse\u001b[0;34m(word, driver)\u001b[0m\n\u001b[1;32m     11\u001b[0m         \u001b[0mraiseDefinitionException\u001b[0m\u001b[0;34m(\u001b[0m\u001b[0mfinal_soup\u001b[0m\u001b[0;34m,\u001b[0m \u001b[0mword\u001b[0m\u001b[0;34m)\u001b[0m \u001b[0;31m# we need to pass word to this also because sometimes the word will be changed.\u001b[0m\u001b[0;34m\u001b[0m\u001b[0m\n\u001b[1;32m     12\u001b[0m         \u001b[0mprint\u001b[0m\u001b[0;34m(\u001b[0m\u001b[0;34m\"found 1\"\u001b[0m\u001b[0;34m)\u001b[0m\u001b[0;34m\u001b[0m\u001b[0m\n\u001b[0;32m---> 13\u001b[0;31m     \u001b[0mtrans\u001b[0m \u001b[0;34m=\u001b[0m \u001b[0mgetHindi\u001b[0m\u001b[0;34m(\u001b[0m\u001b[0mdriver\u001b[0m\u001b[0;34m)\u001b[0m\u001b[0;34m\u001b[0m\u001b[0m\n\u001b[0m\u001b[1;32m     14\u001b[0m     \u001b[0;32mreturn\u001b[0m \u001b[0;34m[\u001b[0m\u001b[0meveryThing\u001b[0m\u001b[0;34m,\u001b[0m \u001b[0mword\u001b[0m\u001b[0;34m,\u001b[0m \u001b[0mtrans\u001b[0m\u001b[0;34m]\u001b[0m\u001b[0;34m\u001b[0m\u001b[0m\n",
      "\u001b[0;32m<ipython-input-10-532ab4169a59>\u001b[0m in \u001b[0;36mgetHindi\u001b[0;34m(driver)\u001b[0m\n\u001b[1;32m      1\u001b[0m \u001b[0;32mdef\u001b[0m \u001b[0mgetHindi\u001b[0m\u001b[0;34m(\u001b[0m\u001b[0mdriver\u001b[0m\u001b[0;34m)\u001b[0m\u001b[0;34m:\u001b[0m\u001b[0;34m\u001b[0m\u001b[0m\n\u001b[1;32m      2\u001b[0m     \u001b[0mRESULTS_LOCATOR\u001b[0m \u001b[0;34m=\u001b[0m \u001b[0;34m\"//span[@class='lr_dct_trns_sel_cnt']\"\u001b[0m\u001b[0;34m\u001b[0m\u001b[0m\n\u001b[0;32m----> 3\u001b[0;31m     \u001b[0mWebDriverWait\u001b[0m\u001b[0;34m(\u001b[0m\u001b[0mdriver\u001b[0m\u001b[0;34m,\u001b[0m \u001b[0;36m10\u001b[0m\u001b[0;34m)\u001b[0m\u001b[0;34m.\u001b[0m\u001b[0muntil\u001b[0m\u001b[0;34m(\u001b[0m\u001b[0mEC\u001b[0m\u001b[0;34m.\u001b[0m\u001b[0mvisibility_of_element_located\u001b[0m\u001b[0;34m(\u001b[0m\u001b[0;34m(\u001b[0m\u001b[0mBy\u001b[0m\u001b[0;34m.\u001b[0m\u001b[0mXPATH\u001b[0m\u001b[0;34m,\u001b[0m \u001b[0mRESULTS_LOCATOR\u001b[0m\u001b[0;34m)\u001b[0m\u001b[0;34m)\u001b[0m\u001b[0;34m)\u001b[0m\u001b[0;34m\u001b[0m\u001b[0m\n\u001b[0m\u001b[1;32m      4\u001b[0m     \u001b[0moptions\u001b[0m \u001b[0;34m=\u001b[0m \u001b[0mdriver\u001b[0m\u001b[0;34m.\u001b[0m\u001b[0mfind_element\u001b[0m\u001b[0;34m(\u001b[0m\u001b[0mBy\u001b[0m\u001b[0;34m.\u001b[0m\u001b[0mXPATH\u001b[0m\u001b[0;34m,\u001b[0m \u001b[0mRESULTS_LOCATOR\u001b[0m\u001b[0;34m)\u001b[0m\u001b[0;34m\u001b[0m\u001b[0m\n\u001b[1;32m      5\u001b[0m     \u001b[0mopt\u001b[0m \u001b[0;34m=\u001b[0m \u001b[0moptions\u001b[0m\u001b[0;34m.\u001b[0m\u001b[0mfind_element\u001b[0m\u001b[0;34m(\u001b[0m\u001b[0mBy\u001b[0m\u001b[0;34m.\u001b[0m\u001b[0mXPATH\u001b[0m\u001b[0;34m,\u001b[0m \u001b[0;34m'//Select'\u001b[0m\u001b[0;34m)\u001b[0m\u001b[0;34m\u001b[0m\u001b[0m\n",
      "\u001b[0;32m/Library/Frameworks/Python.framework/Versions/3.4/lib/python3.4/site-packages/selenium/webdriver/support/wait.py\u001b[0m in \u001b[0;36muntil\u001b[0;34m(self, method, message)\u001b[0m\n\u001b[1;32m     78\u001b[0m             \u001b[0;32mif\u001b[0m \u001b[0mtime\u001b[0m\u001b[0;34m.\u001b[0m\u001b[0mtime\u001b[0m\u001b[0;34m(\u001b[0m\u001b[0;34m)\u001b[0m \u001b[0;34m>\u001b[0m \u001b[0mend_time\u001b[0m\u001b[0;34m:\u001b[0m\u001b[0;34m\u001b[0m\u001b[0m\n\u001b[1;32m     79\u001b[0m                 \u001b[0;32mbreak\u001b[0m\u001b[0;34m\u001b[0m\u001b[0m\n\u001b[0;32m---> 80\u001b[0;31m         \u001b[0;32mraise\u001b[0m \u001b[0mTimeoutException\u001b[0m\u001b[0;34m(\u001b[0m\u001b[0mmessage\u001b[0m\u001b[0;34m,\u001b[0m \u001b[0mscreen\u001b[0m\u001b[0;34m,\u001b[0m \u001b[0mstacktrace\u001b[0m\u001b[0;34m)\u001b[0m\u001b[0;34m\u001b[0m\u001b[0m\n\u001b[0m\u001b[1;32m     81\u001b[0m \u001b[0;34m\u001b[0m\u001b[0m\n\u001b[1;32m     82\u001b[0m     \u001b[0;32mdef\u001b[0m \u001b[0muntil_not\u001b[0m\u001b[0;34m(\u001b[0m\u001b[0mself\u001b[0m\u001b[0;34m,\u001b[0m \u001b[0mmethod\u001b[0m\u001b[0;34m,\u001b[0m \u001b[0mmessage\u001b[0m\u001b[0;34m=\u001b[0m\u001b[0;34m''\u001b[0m\u001b[0;34m)\u001b[0m\u001b[0;34m:\u001b[0m\u001b[0;34m\u001b[0m\u001b[0m\n",
      "\u001b[0;31mTimeoutException\u001b[0m: Message: \n"
     ]
    }
   ],
   "source": [
    "[definitionElement, word, trans] = getGoogleResponse(\"odyssey\", driver)"
   ]
  },
  {
   "cell_type": "code",
   "execution_count": 34,
   "metadata": {},
   "outputs": [
    {
     "name": "stdout",
     "output_type": "stream",
     "text": [
      "found 2\n",
      "found 2\n",
      "found 1\n"
     ]
    }
   ],
   "source": [
    "[definitionElement, word, trans] = getGoogleResponse(\"zero sum game\", driver)"
   ]
  },
  {
   "cell_type": "code",
   "execution_count": 35,
   "metadata": {},
   "outputs": [
    {
     "data": {
      "text/plain": [
       "[]"
      ]
     },
     "execution_count": 35,
     "metadata": {},
     "output_type": "execute_result"
    }
   ],
   "source": [
    "definitionElement"
   ]
  },
  {
   "cell_type": "code",
   "execution_count": 36,
   "metadata": {},
   "outputs": [
    {
     "data": {
      "text/plain": [
       "'zero sum game'"
      ]
     },
     "execution_count": 36,
     "metadata": {},
     "output_type": "execute_result"
    }
   ],
   "source": [
    "word"
   ]
  },
  {
   "cell_type": "code",
   "execution_count": 37,
   "metadata": {},
   "outputs": [
    {
     "data": {
      "text/plain": [
       "<span class=\"Y0NH2b CLPzrc\">In <b>game</b> theory and economic theory, a <b>zero</b>-<b>sum game</b> is a mathematical representation of a situation in which each participant's gain or loss of utility is exactly balanced by the losses or gains of the utility of the other participants.</span>"
      ]
     },
     "execution_count": 37,
     "metadata": {},
     "output_type": "execute_result"
    }
   ],
   "source": [
    "trans"
   ]
  },
  {
   "cell_type": "code",
   "execution_count": 47,
   "metadata": {},
   "outputs": [
    {
     "name": "stdout",
     "output_type": "stream",
     "text": [
      "found 2:  None\n",
      "handleGoogleDidYouMean\n",
      "found 2:  None\n",
      "getGoogleResponse\n",
      "found 1\n"
     ]
    }
   ],
   "source": [
    "[definitionElement, word, trans] = getGoogleResponse(\"balkanize\", driver)"
   ]
  },
  {
   "cell_type": "code",
   "execution_count": 40,
   "metadata": {},
   "outputs": [
    {
     "data": {
      "text/plain": [
       "[]"
      ]
     },
     "execution_count": 40,
     "metadata": {},
     "output_type": "execute_result"
    }
   ],
   "source": [
    "definitionElement"
   ]
  },
  {
   "cell_type": "code",
   "execution_count": 41,
   "metadata": {},
   "outputs": [
    {
     "data": {
      "text/plain": [
       "'balkanize'"
      ]
     },
     "execution_count": 41,
     "metadata": {},
     "output_type": "execute_result"
    }
   ],
   "source": [
    "word"
   ]
  },
  {
   "cell_type": "code",
   "execution_count": 42,
   "metadata": {
    "collapsed": true
   },
   "outputs": [],
   "source": [
    "trans"
   ]
  },
  {
   "cell_type": "code",
   "execution_count": null,
   "metadata": {
    "collapsed": true
   },
   "outputs": [],
   "source": []
  }
 ],
 "metadata": {
  "kernelspec": {
   "display_name": "Python 3",
   "language": "python",
   "name": "python3"
  },
  "language_info": {
   "codemirror_mode": {
    "name": "ipython",
    "version": 3
   },
   "file_extension": ".py",
   "mimetype": "text/x-python",
   "name": "python",
   "nbconvert_exporter": "python",
   "pygments_lexer": "ipython3",
   "version": "3.4.3"
  }
 },
 "nbformat": 4,
 "nbformat_minor": 2
}
