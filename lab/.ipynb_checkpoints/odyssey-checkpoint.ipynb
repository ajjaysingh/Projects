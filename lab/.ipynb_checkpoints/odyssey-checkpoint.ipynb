{
 "cells": [
  {
   "cell_type": "code",
   "execution_count": 51,
   "metadata": {
    "collapsed": true
   },
   "outputs": [],
   "source": [
    "import  requests, os, sys, json, urllib, shutil, re, pickle, time\n",
    "from selenium import webdriver\n",
    "from selenium.webdriver.common.by import By\n",
    "from selenium.webdriver.support.ui import WebDriverWait\n",
    "from selenium.webdriver.support import expected_conditions as EC\n",
    "from selenium.webdriver.common.keys import Keys\n",
    "from textwrap import fill\n",
    "from collections import Counter\n",
    "from bs4 import BeautifulSoup\n",
    "\n",
    "dir = '/Users/chaser/Projects/Dictionary/Meaning'\n",
    "userWord = ''\n",
    "\n",
    "class color:\n",
    "    MAGENTA     = '\\033[35m'\n",
    "    CYAN        = '\\033[36m'\n",
    "    BLUE        = '\\033[34m'\n",
    "    BRIGHT      = '\\033[37m'\n",
    "    DARKYELLOW  = '\\033[33m'\n",
    "    GREEN       = '\\033[32m'\n",
    "    DARKRED     = '\\033[31m'\n",
    "    DULL        = '\\033[30m'\n",
    "    PURPLE      = '\\033[95m'\n",
    "    DARKCYAN    = '\\033[36m'\n",
    "    RED         = '\\033[91m'\n",
    "    BOLD        = '\\033[1m'\n",
    "    ITALICS     = '\\033[3m'\n",
    "    UNDERLINE   = '\\033[4m'\n",
    "    END         = '\\033[0m'\n",
    "    def getMagenta(string):\n",
    "        return color.MAGENTA + string + color.END\n",
    "        \n",
    "    def getCyan(string):\n",
    "        return color.CYAN + string + color.END\n",
    "        \n",
    "    def getBlue(string):\n",
    "        return color.BLUE + string + color.END\n",
    "        \n",
    "    def getBright(string):\n",
    "        return color.BRIGHT + string + color.END\n",
    "        \n",
    "    def getDarkYellow(string):\n",
    "        return color.DARKYELLOW + string + color.END\n",
    "        \n",
    "    def getGreen(string):\n",
    "        return color.GREEN + string + color.END\n",
    "        \n",
    "    def getRed(string):\n",
    "        return color.RED + string + color.END\n",
    "        \n",
    "    def getItalics(string):\n",
    "        return color.ITALICS + string + color.END\n",
    "        \n",
    "    def getUnderline(string):\n",
    "        return color.UNDERLINE + string + color.END\n",
    "        \n",
    "    def getBold(string):\n",
    "        return color.BOLD + string + color.END\n",
    "        \n",
    "    def getDarkRed(string):\n",
    "        return color.DARKRED + string + color.END\n",
    "        \n",
    "    def getDull(string):\n",
    "        return color.Dull + string + color.END\n",
    "        \n",
    "    def getPurple(string):\n",
    "        return color.PURPLE + string + color.END\n",
    "        \n",
    "    def getDarkCyan(string):\n",
    "        return color.DARKCYAN + string + color.END"
   ]
  },
  {
   "cell_type": "code",
   "execution_count": 17,
   "metadata": {
    "collapsed": true
   },
   "outputs": [],
   "source": [
    "\"\"\"Logs what is outputed at the terminal to a file\"\"\"\n",
    "class Logger(object):\n",
    "    def __init__(self, filename=\"Default.log\"):\n",
    "        self.terminal = sys.stdout          # here it defines vaiable terminal initialised to the standard stdout\n",
    "        self.log = open(filename, \"a\")      # here it defines a vauable initialised to a file\n",
    "\n",
    "    def write(self, message):               # the write function writes to terminal and file and also flushes \n",
    "        self.terminal.write(message)        # so that updates to file are simultaneous to the updates in terminal\n",
    "        self.log.write(message)\n",
    "        self.log.flush()\n",
    "\n",
    "    def flush(self):\n",
    "        #this flush method is needed for python 3 compatibility.\n",
    "        #this handles the flush command by doing nothing.\n",
    "        #you might want to specify some extra behavior here.\n",
    "        pass"
   ]
  },
  {
   "cell_type": "code",
   "execution_count": 5,
   "metadata": {},
   "outputs": [],
   "source": [
    "class NoDefinition(ValueError):\n",
    "    def __init__(self, arg1, arg2):\n",
    "        self.msg = arg1\n",
    "        self.word = arg2\n",
    "        self.args = {arg1, arg2}"
   ]
  },
  {
   "cell_type": "code",
   "execution_count": 6,
   "metadata": {
    "collapsed": true
   },
   "outputs": [],
   "source": [
    "def printAligned(left, right):\n",
    "    screen_width = shutil.get_terminal_size().columns - 20\n",
    "    wrapped = fill(right, width=screen_width, subsequent_indent=' '*15)\n",
    "    return '  {0:>13}{1}'.format(left, wrapped)\n",
    "\n",
    "def printSynAntons(left, right):\n",
    "    screen_width = shutil.get_terminal_size().columns - 25\n",
    "    wrapped = fill(right, width=screen_width, subsequent_indent=' '*21)\n",
    "    return '  {0:>13}{1}'.format(left, wrapped)\n",
    "\n",
    "def anagram(word1, word2):\n",
    "    # print(\">>>>\", word1)\n",
    "    word1 = word1.replace(\" \", \"\")\n",
    "    word1 = word1.replace(\"-\", \"\")\n",
    "    word2 = word2.replace(\" \", \"\")\n",
    "    word2 = word2.replace(\"-\", \"\")\n",
    "    return Counter(word1) == Counter(word2)"
   ]
  },
  {
   "cell_type": "code",
   "execution_count": 7,
   "metadata": {
    "collapsed": true
   },
   "outputs": [],
   "source": [
    "def handleVocabDidYouMean(soup, word):\n",
    "    msg = soup.find(\"span\", {\"class\":\"word\"})\n",
    "    if msg.text.lower() != word:\n",
    "        url = 'https://www.vocabulary.com/dictionary/' + msg.text.lower()\n",
    "        response = requests.get(url, headers={\"user-agent\": \"Mozilla/5.0 (Macintosh; Intel Mac OS X 10.12; rv:49.0) Gecko/20100101 Firefox/49.0\"})\n",
    "        html = response.content\n",
    "        soup = BeautifulSoup(html, \"lxml\")\n",
    "        word  = msg.text.lower()\n",
    "    return [soup, word]"
   ]
  },
  {
   "cell_type": "code",
   "execution_count": 8,
   "metadata": {
    "collapsed": true
   },
   "outputs": [],
   "source": [
    "\"\"\"REsults form Vocabulary.com\"\"\"\n",
    "def vocabResults(word):\n",
    "    url = 'https://www.vocabulary.com/dictionary/' + word\n",
    "    response = requests.get(url, headers={\"user-agent\": \"Mozilla/5.0 (Macintosh; Intel Mac OS X 10.12; rv:49.0) Gecko/20100101 Firefox/49.0\"})\n",
    "    html = response.content\n",
    "    vocab_soup = BeautifulSoup(html, \"lxml\")\n",
    "    [vocab_soup, suggestedWord] = handleVocabDidYouMean(vocab_soup, word)\n",
    "    columns = shutil.get_terminal_size().columns\n",
    "    print(color.getMagenta(word.upper().center(columns)))\n",
    "    short = vocab_soup.find(\"p\", {\"class\":\"short\"})\n",
    "    if short != None:\n",
    "        print(color.getRed(printAligned(\"SHORT  \", short.text)))\n",
    "    lonng = vocab_soup.find(\"p\", {\"class\":\"long\"})\n",
    "    if lonng != None:\n",
    "        print(color.getDarkCyan(printAligned(\"LONG  \", lonng.text)))\n",
    "\n",
    "    json_url = 'https://corpus.vocabulary.com/api/1.0/examples.json?query=' + str(word) + '&maxResults=24&startOffset=0&filter=0'\n",
    "    json_url = json_url.replace(' ', '%20')\n",
    "    html = urllib.request.urlopen(json_url).read()\n",
    "    j = json.loads(html.decode('utf-8'))\n",
    "    if j['result'] != None:\n",
    "        l = j['result']['sentences']\n",
    "        print(\"Examples from Vocabulary:\".upper().center(columns))\n",
    "        for s in l[:5]:\n",
    "            print(color.getItalics(printAligned(\"  > \", s['sentence'])))\n",
    "    return word"
   ]
  },
  {
   "cell_type": "code",
   "execution_count": 46,
   "metadata": {
    "collapsed": true
   },
   "outputs": [],
   "source": [
    "def raiseDefinitionException(soup, word):\n",
    "    msg = soup.find(\"span\",{\"class\":\"_Tgc\"})\n",
    "    print(\"found 2: \", msg)\n",
    "    print(sys._getframe(1).f_code.co_name) # print the name of the function which called it.\n",
    "    if msg != None:\n",
    "        err = msg.get_text(' ')\n",
    "        print(\"msg: \", msg)\n",
    "        print(\"err: \", err)\n",
    "        raise NoDefinition(err, word)"
   ]
  },
  {
   "cell_type": "code",
   "execution_count": 10,
   "metadata": {
    "collapsed": true
   },
   "outputs": [],
   "source": [
    "def getHindi(driver):\n",
    "    RESULTS_LOCATOR = \"//span[@class='lr_dct_trns_sel_cnt']\"\n",
    "    WebDriverWait(driver, 10).until(EC.visibility_of_element_located((By.XPATH, RESULTS_LOCATOR)))\n",
    "    options = driver.find_element(By.XPATH, RESULTS_LOCATOR)\n",
    "    opt = options.find_element(By.XPATH, '//Select')\n",
    "    for o in opt.find_elements_by_tag_name('option'):\n",
    "        if o.text == 'Hindi':\n",
    "            o.click() # select() in earlier versions of webdriver\n",
    "            break\n",
    "    time.sleep(1)\n",
    "    html = driver.page_source\n",
    "    soup = BeautifulSoup(html, \"lxml\")\n",
    "    trans = soup.find(\"div\", {\"class\":\"lr_dct_trns vmod\"})\n",
    "    return trans"
   ]
  },
  {
   "cell_type": "code",
   "execution_count": 11,
   "metadata": {
    "collapsed": true
   },
   "outputs": [],
   "source": [
    "def getSoupRenewed(oldSoup, driver, forWord):\n",
    "    url = 'https://www.google.co.in/search?q=define%20' + forWord + '&expnd=1'\n",
    "    driver.get(url)\n",
    "    html = driver.page_source\n",
    "    soup = BeautifulSoup(html, \"lxml\")\n",
    "    return soup"
   ]
  },
  {
   "cell_type": "code",
   "execution_count": 12,
   "metadata": {
    "collapsed": true
   },
   "outputs": [],
   "source": [
    "def handleGoogleDidYouMean(soup, word, driver):\n",
    "    errorString = 'Did you mean:'\n",
    "    msg = soup.find(\"span\",{\"class\":\"spell _uwb\"})\n",
    "    if msg != None:\n",
    "        msg = msg.text\n",
    "        if msg == errorString:\n",
    "            word = soup.find(\"a\",{\"class\":\"spell\"}).find({\"i\"}).text\n",
    "            soup = getSoupRenewed(soup, driver, word)\n",
    "    else:\n",
    "        msg = soup.find(\"span\",{\"class\":\"spell\"})\n",
    "        errorString = \"Including results for\"\n",
    "        if msg != None and errorString in msg.text:\n",
    "            word = msg.find({\"i\"}).text\n",
    "            soup = getSoupRenewed(soup, driver, word)\n",
    "        elif msg != None and \"Showing results for\" in msg.text:\n",
    "            word = soup.find(\"a\",{\"class\":\"spell\"}).find({\"i\"}).text\n",
    "            word = soup.find(\"span\", {\"data-dobid\":\"hdw\"}).text # Earlier I was using the word in the error message but if we search for \"privy counsil\" then only the spelling of cousil is wrong therefore in the above statement only \"council\" will appear rather than \"privy council\".\n",
    "        else:\n",
    "            raiseDefinitionException(soup, word)\n",
    "    return [soup, word]"
   ]
  },
  {
   "cell_type": "code",
   "execution_count": 61,
   "metadata": {},
   "outputs": [],
   "source": [
    "\"\"\"Request google for the word and returns the element containing the entire definition\"\"\"\n",
    "def getGoogleResponse(word, driver):\n",
    "    url = 'https://www.google.co.in/search?q=define%20' + word + '&expnd=1'\n",
    "    driver.get(url)\n",
    "    html = driver.page_source\n",
    "    final_soup = BeautifulSoup(html, \"lxml\")\n",
    "    [final_soup, word] = handleGoogleDidYouMean(final_soup, word, driver)\n",
    "    everyThing = final_soup.select(\"div.lr_dct_ent\")\n",
    "    # print(everyThing)\n",
    "    if everyThing == []:\n",
    "        [everyThing, word, final_soup.find(\"span\", {\"class\":\"Y0NH2b CLPzrc\"})] # Alternate definitions provided by google search (for example words like Odyssey, Zero sum game, etc.).\n",
    "        # In such a case we return the alternate definition in the trans field, print it out and exit.\n",
    "    else:\n",
    "        trans = getHindi(driver)\n",
    "        return [everyThing, word, trans]"
   ]
  },
  {
   "cell_type": "code",
   "execution_count": 14,
   "metadata": {
    "collapsed": true
   },
   "outputs": [],
   "source": [
    "def alignBullets(left, right):\n",
    "    screen_width = shutil.get_terminal_size().columns - 15\n",
    "    wrapped = fill(right, width=screen_width, subsequent_indent=' '*12)\n",
    "    return '  {0:<10}{1}'.format(left, wrapped)\n",
    "\n",
    "def wrapLineNumberDfn(right):\n",
    "    screen_width = shutil.get_terminal_size().columns - 15\n",
    "    wrapped = fill(right, width=screen_width, subsequent_indent=' '*11)\n",
    "    return wrapped"
   ]
  },
  {
   "cell_type": "code",
   "execution_count": 15,
   "metadata": {
    "collapsed": true
   },
   "outputs": [],
   "source": [
    "def extractOrigin(everyThing):\n",
    "    origin = everyThing[0].find_all(\"div\", {})\n",
    "    print()\n",
    "    print(printAligned(\"Origin:  \", origin[-1].text))\n",
    "\n",
    "def changeFileNameIfSearchNotSame(givenFileName, givenWord, searchedWord):\n",
    "    os.chdir(dir + '/' + givenWord[0].upper())\n",
    "    givenFileName = givenFileName.replace(\" \", \"\\\\ \")\n",
    "    fileName = dir + '/' + searchedWord[0].upper() + '/' + searchedWord.lower() + \".txt\"\n",
    "    os.system(\"mv \" + givenFileName + \" \" + fileName.replace(\" \", \"\\\\ \"))\n",
    "    print(\"Attention!!! The word searched is \" + searchedWord + \" instead of \" + givenWord)"
   ]
  },
  {
   "cell_type": "code",
   "execution_count": 16,
   "metadata": {
    "collapsed": true
   },
   "outputs": [],
   "source": [
    "def findWordIfAlreadyScrapped(word, fileName, wordToSave):\n",
    "    wordGiven = word\n",
    "    os.chdir(dir + '/' + word[0].upper())\n",
    "    files = os.listdir()\n",
    "    if fileName in files:\n",
    "        file = fileName.replace(\" \", \"\\\\ \")\n",
    "        print(\"Found!!\")\n",
    "        os.system(\"cat \" + file)\n",
    "        addword.addWordFromMean(wordToSave)\n",
    "        os.chdir(dir + '/' + word[0].upper())\n",
    "    else:\n",
    "        try:\n",
    "            chromedriver = \"/Users/chaser/Projects/mybin/chromedriver\"\n",
    "            os.environ[\"webdriver.chrome.driver\"] = chromedriver\n",
    "            driver = webdriver.Chrome(chromedriver)\n",
    "            sys.stdout = Logger(fileName)\n",
    "            [definitionElement, word, trans] = getGoogleResponse(word, driver) # word will contain the word returned from search.\n",
    "            if definitionElement == []:\n",
    "                columns = shutil.get_terminal_size().columns\n",
    "                print(color.getMagenta(word.upper().center(columns)))\n",
    "                print(printAligned(\"\\t\", definition = \".\".join(trans.text.split(\".\")[1:])))\n",
    "            else:\n",
    "                vocabResults(word)\n",
    "                # print(definitionElement)\n",
    "                # print(\"there\")\n",
    "                extractFromGoogleElement(definitionElement)\n",
    "                extractHindi(trans)\n",
    "                extractOrigin(definitionElement)\n",
    "            # print(\"here\")\n",
    "            # exit(5)\n",
    "            driver.quit()\n",
    "            # os.system('mv ../../' + fileName + ' .') now no need to move ;)\n",
    "            sys.stdout = sys.__stdout__\n",
    "            if wordGiven != word:  # If the word is changed by google then the changed word should be saved instead of the wrong user supplied word.\n",
    "                wordToSave = word.replace(\" \", \"-\")\n",
    "            addword.addWordFromMean(wordToSave)       #!!!!!!!!!!!   also in the if statement >>>>>>>>> HEY DON\"T FORGET TO UNCOMMENT THIS TO ADD THE QUERIED WORD TO wordlists\n",
    "            os.chdir(dir + '/' + word[0].upper())\n",
    "            if wordGiven != word:\n",
    "                changeFileNameIfSearchNotSame(fileName, wordGiven, word)\n",
    "            # print(\">>!!!!>>\")\n",
    "        except NoDefinition as e:\n",
    "            try:\n",
    "                # print(\"Its in wiki\")\n",
    "                vocabResults(e.word)\n",
    "                print(\"\\n\\tWiki Definition:\")\n",
    "                print(printAligned(\"\\t\", e.msg))\n",
    "                driver.quit()\n",
    "                sys.stdout = sys.__stdout__\n",
    "                if wordGiven != e.word:  # If the word is changed by google then the changed word should be saved instead of the wrong user supplied word.\n",
    "                    wordToSave = e.word.replace(\" \", \"-\")\n",
    "                addword.addWordFromMean(wordToSave)       #!!!!!!!!!!!   also in the if statement >>>>>>>>>HEY DON\"T FORGET TO UNCOMMENT THIS TO ADD THE QUERIED WORD TO wordlists\n",
    "                os.chdir(dir + '/' + e.word[0].upper())\n",
    "                if wordGiven != e.word:\n",
    "                    changeFileNameIfSearchNotSame(fileName, wordGiven, e.word)\n",
    "            except:\n",
    "                # print(\"Its in wiki\")\n",
    "                sys.stdout =sys.__stdout__\n",
    "                os.system('rm ' + fileName.replace(\" \", \"\\\\ \"))\n",
    "                driver.quit()\n",
    "        except:\n",
    "            # for words like Odyssey the exception is returning here.\n",
    "            # print(\"never went to wiki\")\n",
    "            # try:\n",
    "            # except:\n",
    "            sys.stdout =sys.__stdout__\n",
    "            os.system('rm ' + fileName.replace(\" \", \"\\\\ \"))\n",
    "            driver.quit()"
   ]
  },
  {
   "cell_type": "code",
   "execution_count": 18,
   "metadata": {
    "collapsed": true
   },
   "outputs": [],
   "source": [
    "chromedriver = \"/Users/chaser/Projects/mybin/chromedriver\"\n",
    "os.environ[\"webdriver.chrome.driver\"] = chromedriver\n",
    "driver = webdriver.Chrome(chromedriver)"
   ]
  },
  {
   "cell_type": "code",
   "execution_count": 20,
   "metadata": {},
   "outputs": [
    {
     "name": "stdout",
     "output_type": "stream",
     "text": [
      "found 2\n",
      "found 2\n",
      "found 1\n"
     ]
    },
    {
     "ename": "TimeoutException",
     "evalue": "Message: \n",
     "output_type": "error",
     "traceback": [
      "\u001b[0;31m---------------------------------------------------------------------------\u001b[0m",
      "\u001b[0;31mTimeoutException\u001b[0m                          Traceback (most recent call last)",
      "\u001b[0;32m<ipython-input-20-41f94c1c734c>\u001b[0m in \u001b[0;36m<module>\u001b[0;34m()\u001b[0m\n\u001b[0;32m----> 1\u001b[0;31m \u001b[0;34m[\u001b[0m\u001b[0mdefinitionElement\u001b[0m\u001b[0;34m,\u001b[0m \u001b[0mword\u001b[0m\u001b[0;34m,\u001b[0m \u001b[0mtrans\u001b[0m\u001b[0;34m]\u001b[0m \u001b[0;34m=\u001b[0m \u001b[0mgetGoogleResponse\u001b[0m\u001b[0;34m(\u001b[0m\u001b[0;34m\"odyssey\"\u001b[0m\u001b[0;34m,\u001b[0m \u001b[0mdriver\u001b[0m\u001b[0;34m)\u001b[0m\u001b[0;34m\u001b[0m\u001b[0m\n\u001b[0m",
      "\u001b[0;32m<ipython-input-13-c7619eecdad0>\u001b[0m in \u001b[0;36mgetGoogleResponse\u001b[0;34m(word, driver)\u001b[0m\n\u001b[1;32m     11\u001b[0m         \u001b[0mraiseDefinitionException\u001b[0m\u001b[0;34m(\u001b[0m\u001b[0mfinal_soup\u001b[0m\u001b[0;34m,\u001b[0m \u001b[0mword\u001b[0m\u001b[0;34m)\u001b[0m \u001b[0;31m# we need to pass word to this also because sometimes the word will be changed.\u001b[0m\u001b[0;34m\u001b[0m\u001b[0m\n\u001b[1;32m     12\u001b[0m         \u001b[0mprint\u001b[0m\u001b[0;34m(\u001b[0m\u001b[0;34m\"found 1\"\u001b[0m\u001b[0;34m)\u001b[0m\u001b[0;34m\u001b[0m\u001b[0m\n\u001b[0;32m---> 13\u001b[0;31m     \u001b[0mtrans\u001b[0m \u001b[0;34m=\u001b[0m \u001b[0mgetHindi\u001b[0m\u001b[0;34m(\u001b[0m\u001b[0mdriver\u001b[0m\u001b[0;34m)\u001b[0m\u001b[0;34m\u001b[0m\u001b[0m\n\u001b[0m\u001b[1;32m     14\u001b[0m     \u001b[0;32mreturn\u001b[0m \u001b[0;34m[\u001b[0m\u001b[0meveryThing\u001b[0m\u001b[0;34m,\u001b[0m \u001b[0mword\u001b[0m\u001b[0;34m,\u001b[0m \u001b[0mtrans\u001b[0m\u001b[0;34m]\u001b[0m\u001b[0;34m\u001b[0m\u001b[0m\n",
      "\u001b[0;32m<ipython-input-10-532ab4169a59>\u001b[0m in \u001b[0;36mgetHindi\u001b[0;34m(driver)\u001b[0m\n\u001b[1;32m      1\u001b[0m \u001b[0;32mdef\u001b[0m \u001b[0mgetHindi\u001b[0m\u001b[0;34m(\u001b[0m\u001b[0mdriver\u001b[0m\u001b[0;34m)\u001b[0m\u001b[0;34m:\u001b[0m\u001b[0;34m\u001b[0m\u001b[0m\n\u001b[1;32m      2\u001b[0m     \u001b[0mRESULTS_LOCATOR\u001b[0m \u001b[0;34m=\u001b[0m \u001b[0;34m\"//span[@class='lr_dct_trns_sel_cnt']\"\u001b[0m\u001b[0;34m\u001b[0m\u001b[0m\n\u001b[0;32m----> 3\u001b[0;31m     \u001b[0mWebDriverWait\u001b[0m\u001b[0;34m(\u001b[0m\u001b[0mdriver\u001b[0m\u001b[0;34m,\u001b[0m \u001b[0;36m10\u001b[0m\u001b[0;34m)\u001b[0m\u001b[0;34m.\u001b[0m\u001b[0muntil\u001b[0m\u001b[0;34m(\u001b[0m\u001b[0mEC\u001b[0m\u001b[0;34m.\u001b[0m\u001b[0mvisibility_of_element_located\u001b[0m\u001b[0;34m(\u001b[0m\u001b[0;34m(\u001b[0m\u001b[0mBy\u001b[0m\u001b[0;34m.\u001b[0m\u001b[0mXPATH\u001b[0m\u001b[0;34m,\u001b[0m \u001b[0mRESULTS_LOCATOR\u001b[0m\u001b[0;34m)\u001b[0m\u001b[0;34m)\u001b[0m\u001b[0;34m)\u001b[0m\u001b[0;34m\u001b[0m\u001b[0m\n\u001b[0m\u001b[1;32m      4\u001b[0m     \u001b[0moptions\u001b[0m \u001b[0;34m=\u001b[0m \u001b[0mdriver\u001b[0m\u001b[0;34m.\u001b[0m\u001b[0mfind_element\u001b[0m\u001b[0;34m(\u001b[0m\u001b[0mBy\u001b[0m\u001b[0;34m.\u001b[0m\u001b[0mXPATH\u001b[0m\u001b[0;34m,\u001b[0m \u001b[0mRESULTS_LOCATOR\u001b[0m\u001b[0;34m)\u001b[0m\u001b[0;34m\u001b[0m\u001b[0m\n\u001b[1;32m      5\u001b[0m     \u001b[0mopt\u001b[0m \u001b[0;34m=\u001b[0m \u001b[0moptions\u001b[0m\u001b[0;34m.\u001b[0m\u001b[0mfind_element\u001b[0m\u001b[0;34m(\u001b[0m\u001b[0mBy\u001b[0m\u001b[0;34m.\u001b[0m\u001b[0mXPATH\u001b[0m\u001b[0;34m,\u001b[0m \u001b[0;34m'//Select'\u001b[0m\u001b[0;34m)\u001b[0m\u001b[0;34m\u001b[0m\u001b[0m\n",
      "\u001b[0;32m/Library/Frameworks/Python.framework/Versions/3.4/lib/python3.4/site-packages/selenium/webdriver/support/wait.py\u001b[0m in \u001b[0;36muntil\u001b[0;34m(self, method, message)\u001b[0m\n\u001b[1;32m     78\u001b[0m             \u001b[0;32mif\u001b[0m \u001b[0mtime\u001b[0m\u001b[0;34m.\u001b[0m\u001b[0mtime\u001b[0m\u001b[0;34m(\u001b[0m\u001b[0;34m)\u001b[0m \u001b[0;34m>\u001b[0m \u001b[0mend_time\u001b[0m\u001b[0;34m:\u001b[0m\u001b[0;34m\u001b[0m\u001b[0m\n\u001b[1;32m     79\u001b[0m                 \u001b[0;32mbreak\u001b[0m\u001b[0;34m\u001b[0m\u001b[0m\n\u001b[0;32m---> 80\u001b[0;31m         \u001b[0;32mraise\u001b[0m \u001b[0mTimeoutException\u001b[0m\u001b[0;34m(\u001b[0m\u001b[0mmessage\u001b[0m\u001b[0;34m,\u001b[0m \u001b[0mscreen\u001b[0m\u001b[0;34m,\u001b[0m \u001b[0mstacktrace\u001b[0m\u001b[0;34m)\u001b[0m\u001b[0;34m\u001b[0m\u001b[0m\n\u001b[0m\u001b[1;32m     81\u001b[0m \u001b[0;34m\u001b[0m\u001b[0m\n\u001b[1;32m     82\u001b[0m     \u001b[0;32mdef\u001b[0m \u001b[0muntil_not\u001b[0m\u001b[0;34m(\u001b[0m\u001b[0mself\u001b[0m\u001b[0;34m,\u001b[0m \u001b[0mmethod\u001b[0m\u001b[0;34m,\u001b[0m \u001b[0mmessage\u001b[0m\u001b[0;34m=\u001b[0m\u001b[0;34m''\u001b[0m\u001b[0;34m)\u001b[0m\u001b[0;34m:\u001b[0m\u001b[0;34m\u001b[0m\u001b[0m\n",
      "\u001b[0;31mTimeoutException\u001b[0m: Message: \n"
     ]
    }
   ],
   "source": [
    "[definitionElement, word, trans] = getGoogleResponse(\"odyssey\", driver)"
   ]
  },
  {
   "cell_type": "code",
   "execution_count": 34,
   "metadata": {},
   "outputs": [
    {
     "name": "stdout",
     "output_type": "stream",
     "text": [
      "found 2\n",
      "found 2\n",
      "found 1\n"
     ]
    }
   ],
   "source": [
    "[definitionElement, word, trans] = getGoogleResponse(\"zero sum game\", driver)"
   ]
  },
  {
   "cell_type": "code",
   "execution_count": 35,
   "metadata": {},
   "outputs": [
    {
     "data": {
      "text/plain": [
       "[]"
      ]
     },
     "execution_count": 35,
     "metadata": {},
     "output_type": "execute_result"
    }
   ],
   "source": [
    "definitionElement"
   ]
  },
  {
   "cell_type": "code",
   "execution_count": 36,
   "metadata": {},
   "outputs": [
    {
     "data": {
      "text/plain": [
       "'zero sum game'"
      ]
     },
     "execution_count": 36,
     "metadata": {},
     "output_type": "execute_result"
    }
   ],
   "source": [
    "word"
   ]
  },
  {
   "cell_type": "code",
   "execution_count": 37,
   "metadata": {},
   "outputs": [
    {
     "data": {
      "text/plain": [
       "<span class=\"Y0NH2b CLPzrc\">In <b>game</b> theory and economic theory, a <b>zero</b>-<b>sum game</b> is a mathematical representation of a situation in which each participant's gain or loss of utility is exactly balanced by the losses or gains of the utility of the other participants.</span>"
      ]
     },
     "execution_count": 37,
     "metadata": {},
     "output_type": "execute_result"
    }
   ],
   "source": [
    "trans"
   ]
  },
  {
   "cell_type": "code",
   "execution_count": 56,
   "metadata": {},
   "outputs": [
    {
     "name": "stdout",
     "output_type": "stream",
     "text": [
      "found 2:  None\n",
      "handleGoogleDidYouMean\n"
     ]
    }
   ],
   "source": [
    "[definitionElement, word, trans] = getGoogleResponse(\"balkanise\", driver)"
   ]
  },
  {
   "cell_type": "code",
   "execution_count": 57,
   "metadata": {},
   "outputs": [
    {
     "data": {
      "text/plain": [
       "[<div class=\"lr_dct_ent vmod\" data-hveid=\"44\"><div class=\"vk_ans\" style=\"margin-bottom:0;line-height:normal\"><span data-dobid=\"hdw\">Balkanize</span></div><div class=\"vmod\" style=\"max-height:none\"><div class=\"lr_dct_ent_ph\"><span class=\"lr_dct_ph\"><span>ˈbɔːlkənʌɪz</span>,<span>ˈbɒlkənʌɪz</span>/</span><span class=\"lr_dct_spkr lr_dct_spkr_off\" data-ved=\"0ahUKEwiXmLmSldnaAhWFHpQKHRKTCUoQlfQBCC0wAA\" jsaction=\"dob.p\" title=\"Listen\"><input height=\"14\" src=\"data:image/png;base64,iVBORw0KGgoAAAANSUhEUgAAABwAAAAcCAQAAADYBBcfAAABN0lEQVR4AZ3UT4vNYRwF8M+dieS3uNtb7r1lKZPNTNlMWY13gDeBrih7L2A2yka2ItlZYWGrjBJF+VdYjEJTFsI1x9qTX/Ptfp716dmc71m2tzfGPvmibAaI+OOmiZLTdgERETtO2dMJPwVwzHVzEbsu64cVOyIAWPNCRJzVa+yjNEGGHoj4bd1/DT2XNgg6WyJeO6Blv0fSE2Tqu4iZxsBtaYPuOQTgkogPlgGATWmDiG1HAZ1vIjZI/wNEvNMBronYXFJz2HnAQ3C8+mM8BUxEbA9EvwEI+OEg2OcX5ksWVA++AozA13rwDmANvK0G37sK2ACPawX4bKUpwMlK5e4aAbjYVG6xktfP6klzVqVD7twXMbdenw5WPRMR5+pjtepG/1jV5vGMkgv/DPItU3XgpSuOaPwFsUTQA47vSZQAAAAASUVORK5CYII=\" type=\"image\" width=\"14\"/><audio data-dobid=\"aud\" onloadedmetadata=\"this.parentNode.style.display = 'inline-block'\" preload=\"auto\" src=\"//ssl.gstatic.com/dictionary/static/sounds/20160317/balkanize--_gb_1.mp3\"></audio></span></div><div class=\"vmod\" style=\"max-height:none\"><div class=\"lr_dct_sf_h\"><i><span>verb</span></i></div><div class=\"vmod vk_gy\" style=\"max-height:none\"><span>verb: <b>Balkanise</b></span></div><ol class=\"lr_dct_sf_sens\"><li><div class=\"vmod\" style=\"max-height:none\"><div class=\"lr_dct_sf_sen vk_txt\"><div style=\"margin-left:20px\"><div class=\"PNlCoe\" style=\"margin-left:-20px\"><div data-dobid=\"dfn\" style=\"display:inline\"><span>divide (a region or body) into smaller mutually hostile states or groups.</span></div><span class=\"vmod\" style=\"max-height:none\"><div class=\"vk_gy\">\"ambitious neighbours would snatch pieces of territory, Balkanizing the country\"</div></span></div></div></div></div></li></ol></div></div><div class=\"xpdxpnd\" data-mh=\"-1\" style=\"max-height:none\"><div class=\"vk_sh vk_gy\" style=\"margin:20px 0 0\">Origin</div><div><g-img aria-hidden=\"true\" style=\"display:inline-block\"><img alt=\"\" class=\"rISBZc\" height=\"56\" id=\"lr_dct_img_origin_Balkanize0\" src=\"data:image/png;base64,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\" style=\"margin-top:10px;margin-bottom:12px\" width=\"147\"/></g-img></div><div><span>1920s: from Balkan Peninsula (where this was done in the late 19th and early 20th centuries) + </span><span class=\"SDZsVb\" data-term-for-update=\"-ize\" data-ved=\"0ahUKEwiXmLmSldnaAhWFHpQKHRKTCUoQgCsILzAA\" jsaction=\"dob.uwt\" role=\"link\" tabindex=\"0\">-ize</span><span>.</span></div></div></div>]"
      ]
     },
     "execution_count": 57,
     "metadata": {},
     "output_type": "execute_result"
    }
   ],
   "source": [
    "definitionElement"
   ]
  },
  {
   "cell_type": "code",
   "execution_count": 58,
   "metadata": {},
   "outputs": [
    {
     "data": {
      "text/plain": [
       "'balkanise'"
      ]
     },
     "execution_count": 58,
     "metadata": {},
     "output_type": "execute_result"
    }
   ],
   "source": [
    "word"
   ]
  },
  {
   "cell_type": "code",
   "execution_count": 59,
   "metadata": {},
   "outputs": [
    {
     "data": {
      "text/plain": [
       "<div class=\"lr_dct_trns vmod\" data-hveid=\"48\"><span class=\"lr_dct_trns_h vk_sh vk_gy\">Translate balkanise to<span class=\"lr_dct_trns_sel_cnt\"><select class=\"lr_dct_trns_sel lr_dct_trns_sel_browser vk_bk vk_txt ElpxJd\" data-log-string=\"translations-language-select\" data-pref-link=\"/setprefs?sig=0_QlV-qeYt5QynGuO-Z_ITnJ_zLno%3D&amp;prev=https://www.google.co.in/search?q%3Ddefine%2Bbalkanise%26expnd%3D1%26dtrnscllps%3D1%26brd%3D1524787786067000\" data-ved=\"0ahUKEwiXmLmSldnaAhWFHpQKHRKTCUoQmp0CCDEwAA\" id=\"tl_select\" jsaction=\"dob.l;change:dob.ctl\"><option value=\"\">Turn off translation</option><option value=\"af\">Afrikaans</option><option value=\"sq\">Albanian</option><option value=\"am\">Amharic</option><option value=\"ar\">Arabic</option><option value=\"hy\">Armenian</option><option value=\"az\">Azerbaijani</option><option value=\"bn\">Bangla</option><option value=\"eu\">Basque</option><option value=\"be\">Belarusian</option><option value=\"bs\">Bosnian</option><option value=\"bg\">Bulgarian</option><option value=\"my\">Burmese</option><option value=\"ca\">Catalan</option><option value=\"ceb\">Cebuano</option><option value=\"zh-CN\">Chinese (Simplified)</option><option value=\"zh-TW\">Chinese (Traditional)</option><option value=\"co\">Corsican</option><option value=\"hr\">Croatian</option><option value=\"cs\">Czech</option><option value=\"da\">Danish</option><option value=\"nl\">Dutch</option><option value=\"eo\">Esperanto</option><option value=\"et\">Estonian</option><option value=\"tl\">Filipino</option><option value=\"fi\">Finnish</option><option value=\"fr\">French</option><option value=\"gl\">Galician</option><option value=\"ka\">Georgian</option><option value=\"de\">German</option><option value=\"el\">Greek</option><option value=\"gu\">Gujarati</option><option value=\"ht\">Haitian Creole</option><option value=\"ha\">Hausa</option><option value=\"haw\">Hawaiian</option><option value=\"iw\">Hebrew</option><option selected=\"1\" value=\"hi\">Hindi</option><option value=\"hmn\">Hmong</option><option value=\"hu\">Hungarian</option><option value=\"is\">Icelandic</option><option value=\"ig\">Igbo</option><option value=\"id\">Indonesian</option><option value=\"ga\">Irish</option><option value=\"it\">Italian</option><option value=\"ja\">Japanese</option><option value=\"jv\">Javanese</option><option value=\"kn\">Kannada</option><option value=\"kk\">Kazakh</option><option value=\"km\">Khmer</option><option value=\"ko\">Korean</option><option value=\"ku\">Kurdish</option><option value=\"ky\">Kyrgyz</option><option value=\"lo\">Lao</option><option value=\"la\">Latin</option><option value=\"lv\">Latvian</option><option value=\"lt\">Lithuanian</option><option value=\"lb\">Luxembourgish</option><option value=\"mk\">Macedonian</option><option value=\"mg\">Malagasy</option><option value=\"ms\">Malay</option><option value=\"ml\">Malayalam</option><option value=\"mt\">Maltese</option><option value=\"mi\">Maori</option><option value=\"mr\">Marathi</option><option value=\"mn\">Mongolian</option><option value=\"ne\">Nepali</option><option value=\"no\">Norwegian</option><option value=\"ny\">Nyanja</option><option value=\"ps\">Pashto</option><option value=\"fa\">Persian</option><option value=\"pl\">Polish</option><option value=\"pt\">Portuguese</option><option value=\"pa\">Punjabi</option><option value=\"ro\">Romanian</option><option value=\"ru\">Russian</option><option value=\"sm\">Samoan</option><option value=\"gd\">Scottish Gaelic</option><option value=\"sr\">Serbian</option><option value=\"sn\">Shona</option><option value=\"sd\">Sindhi</option><option value=\"si\">Sinhala</option><option value=\"sk\">Slovak</option><option value=\"sl\">Slovenian</option><option value=\"so\">Somali</option><option value=\"st\">Southern Sotho</option><option value=\"es\">Spanish</option><option value=\"su\">Sundanese</option><option value=\"sw\">Swahili</option><option value=\"sv\">Swedish</option><option value=\"tg\">Tajik</option><option value=\"ta\">Tamil</option><option value=\"te\">Telugu</option><option value=\"th\">Thai</option><option value=\"tr\">Turkish</option><option value=\"uk\">Ukrainian</option><option value=\"ur\">Urdu</option><option value=\"uz\">Uzbek</option><option value=\"vi\">Vietnamese</option><option value=\"cy\">Welsh</option><option value=\"fy\">Western Frisian</option><option value=\"xh\">Xhosa</option><option value=\"yi\">Yiddish</option><option value=\"yo\">Yoruba</option><option value=\"zu\">Zulu</option></select></span></span><div data-mh=\"-1\"><div class=\"lr_dct_tg_pos vk_txt\"></div><ol class=\"lr_dct_tg_trns\"><li class=\"vk_txt\"><strong>1</strong>. <span lang=\"hi\">balkanise</span><div data-mh=\"6px\" style=\"height:6px\"></div></li></ol></div></div>"
      ]
     },
     "execution_count": 59,
     "metadata": {},
     "output_type": "execute_result"
    }
   ],
   "source": [
    "trans"
   ]
  },
  {
   "cell_type": "code",
   "execution_count": null,
   "metadata": {
    "collapsed": true
   },
   "outputs": [],
   "source": []
  }
 ],
 "metadata": {
  "kernelspec": {
   "display_name": "Python 3",
   "language": "python",
   "name": "python3"
  },
  "language_info": {
   "codemirror_mode": {
    "name": "ipython",
    "version": 3
   },
   "file_extension": ".py",
   "mimetype": "text/x-python",
   "name": "python",
   "nbconvert_exporter": "python",
   "pygments_lexer": "ipython3",
   "version": "3.4.3"
  }
 },
 "nbformat": 4,
 "nbformat_minor": 2
}
